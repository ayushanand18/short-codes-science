{
 "cells": [
  {
   "cell_type": "markdown",
   "metadata": {},
   "source": [
    "# ISTE 2022 Insights\n",
    "\n",
    "I just had the curiosity to research the engagement of ISTE posts after our arrival (the class of 2025)."
   ]
  },
  {
   "cell_type": "code",
   "execution_count": 2,
   "metadata": {},
   "outputs": [],
   "source": [
    "import pandas as pd\n",
    "import matplotlib.pyplot as pyplot\n",
    "import json\n",
    "%matplotlib inline"
   ]
  },
  {
   "cell_type": "code",
   "execution_count": 3,
   "metadata": {},
   "outputs": [],
   "source": [
    "f=open(\"data/q1.json\")\n",
    "q1 = json.load(f)\n",
    "f.close()"
   ]
  },
  {
   "cell_type": "code",
   "execution_count": 4,
   "metadata": {},
   "outputs": [],
   "source": [
    "q11 = pd.json_normalize(q1[\"feed_items\"])"
   ]
  },
  {
   "cell_type": "code",
   "execution_count": 5,
   "metadata": {},
   "outputs": [
    {
     "data": {
      "text/html": [
       "<div>\n",
       "<style scoped>\n",
       "    .dataframe tbody tr th:only-of-type {\n",
       "        vertical-align: middle;\n",
       "    }\n",
       "\n",
       "    .dataframe tbody tr th {\n",
       "        vertical-align: top;\n",
       "    }\n",
       "\n",
       "    .dataframe thead th {\n",
       "        text-align: right;\n",
       "    }\n",
       "</style>\n",
       "<table border=\"1\" class=\"dataframe\">\n",
       "  <thead>\n",
       "    <tr style=\"text-align: right;\">\n",
       "      <th></th>\n",
       "      <th>media_or_ad.like_count</th>\n",
       "      <th>media_or_ad.taken_at</th>\n",
       "      <th>media_or_ad.comment_count</th>\n",
       "      <th>media_or_ad.id</th>\n",
       "    </tr>\n",
       "  </thead>\n",
       "  <tbody>\n",
       "    <tr>\n",
       "      <th>0</th>\n",
       "      <td>70.0</td>\n",
       "      <td>1.651070e+09</td>\n",
       "      <td>5.0</td>\n",
       "      <td>2825703344821840301_7390080667</td>\n",
       "    </tr>\n",
       "    <tr>\n",
       "      <th>1</th>\n",
       "      <td>59.0</td>\n",
       "      <td>1.651045e+09</td>\n",
       "      <td>2.0</td>\n",
       "      <td>2825494429055265027_10247312710</td>\n",
       "    </tr>\n",
       "    <tr>\n",
       "      <th>2</th>\n",
       "      <td>NaN</td>\n",
       "      <td>NaN</td>\n",
       "      <td>NaN</td>\n",
       "      <td>NaN</td>\n",
       "    </tr>\n",
       "    <tr>\n",
       "      <th>3</th>\n",
       "      <td>82.0</td>\n",
       "      <td>1.650729e+09</td>\n",
       "      <td>2.0</td>\n",
       "      <td>2822843581984100655_17656227282</td>\n",
       "    </tr>\n",
       "    <tr>\n",
       "      <th>4</th>\n",
       "      <td>58.0</td>\n",
       "      <td>1.650983e+09</td>\n",
       "      <td>2.0</td>\n",
       "      <td>2824976630020416285_17656227282</td>\n",
       "    </tr>\n",
       "    <tr>\n",
       "      <th>5</th>\n",
       "      <td>97.0</td>\n",
       "      <td>1.650199e+09</td>\n",
       "      <td>2.0</td>\n",
       "      <td>2818398073938254549_7118111162</td>\n",
       "    </tr>\n",
       "    <tr>\n",
       "      <th>6</th>\n",
       "      <td>59.0</td>\n",
       "      <td>1.650175e+09</td>\n",
       "      <td>0.0</td>\n",
       "      <td>2818190918898067153_17656227282</td>\n",
       "    </tr>\n",
       "    <tr>\n",
       "      <th>7</th>\n",
       "      <td>49.0</td>\n",
       "      <td>1.649860e+09</td>\n",
       "      <td>7.0</td>\n",
       "      <td>2815551251024101158_10247312710</td>\n",
       "    </tr>\n",
       "    <tr>\n",
       "      <th>8</th>\n",
       "      <td>31.0</td>\n",
       "      <td>1.650017e+09</td>\n",
       "      <td>0.0</td>\n",
       "      <td>2816872016205358428_19224028436</td>\n",
       "    </tr>\n",
       "    <tr>\n",
       "      <th>9</th>\n",
       "      <td>37.0</td>\n",
       "      <td>1.649597e+09</td>\n",
       "      <td>0.0</td>\n",
       "      <td>2813341828629931895_7390080667</td>\n",
       "    </tr>\n",
       "    <tr>\n",
       "      <th>10</th>\n",
       "      <td>58.0</td>\n",
       "      <td>1.649675e+09</td>\n",
       "      <td>0.0</td>\n",
       "      <td>2814004301263794034_7118111162</td>\n",
       "    </tr>\n",
       "    <tr>\n",
       "      <th>11</th>\n",
       "      <td>39.0</td>\n",
       "      <td>1.649910e+09</td>\n",
       "      <td>1.0</td>\n",
       "      <td>2815975649376548170_19224028436</td>\n",
       "    </tr>\n",
       "  </tbody>\n",
       "</table>\n",
       "</div>"
      ],
      "text/plain": [
       "    media_or_ad.like_count  media_or_ad.taken_at  media_or_ad.comment_count  \\\n",
       "0                     70.0          1.651070e+09                        5.0   \n",
       "1                     59.0          1.651045e+09                        2.0   \n",
       "2                      NaN                   NaN                        NaN   \n",
       "3                     82.0          1.650729e+09                        2.0   \n",
       "4                     58.0          1.650983e+09                        2.0   \n",
       "5                     97.0          1.650199e+09                        2.0   \n",
       "6                     59.0          1.650175e+09                        0.0   \n",
       "7                     49.0          1.649860e+09                        7.0   \n",
       "8                     31.0          1.650017e+09                        0.0   \n",
       "9                     37.0          1.649597e+09                        0.0   \n",
       "10                    58.0          1.649675e+09                        0.0   \n",
       "11                    39.0          1.649910e+09                        1.0   \n",
       "\n",
       "                     media_or_ad.id  \n",
       "0    2825703344821840301_7390080667  \n",
       "1   2825494429055265027_10247312710  \n",
       "2                               NaN  \n",
       "3   2822843581984100655_17656227282  \n",
       "4   2824976630020416285_17656227282  \n",
       "5    2818398073938254549_7118111162  \n",
       "6   2818190918898067153_17656227282  \n",
       "7   2815551251024101158_10247312710  \n",
       "8   2816872016205358428_19224028436  \n",
       "9    2813341828629931895_7390080667  \n",
       "10   2814004301263794034_7118111162  \n",
       "11  2815975649376548170_19224028436  "
      ]
     },
     "execution_count": 5,
     "metadata": {},
     "output_type": "execute_result"
    }
   ],
   "source": [
    "_q1 = q11[[\"media_or_ad.like_count\",\"media_or_ad.taken_at\",\"media_or_ad.comment_count\",\"media_or_ad.id\"]]\n",
    "_q1"
   ]
  },
  {
   "cell_type": "code",
   "execution_count": 6,
   "metadata": {},
   "outputs": [
    {
     "name": "stderr",
     "output_type": "stream",
     "text": [
      "/tmp/ipykernel_1183/1039549476.py:1: SettingWithCopyWarning: \n",
      "A value is trying to be set on a copy of a slice from a DataFrame\n",
      "\n",
      "See the caveats in the documentation: https://pandas.pydata.org/pandas-docs/stable/user_guide/indexing.html#returning-a-view-versus-a-copy\n",
      "  _q1.dropna(axis=0, inplace=True)\n"
     ]
    },
    {
     "data": {
      "text/html": [
       "<div>\n",
       "<style scoped>\n",
       "    .dataframe tbody tr th:only-of-type {\n",
       "        vertical-align: middle;\n",
       "    }\n",
       "\n",
       "    .dataframe tbody tr th {\n",
       "        vertical-align: top;\n",
       "    }\n",
       "\n",
       "    .dataframe thead th {\n",
       "        text-align: right;\n",
       "    }\n",
       "</style>\n",
       "<table border=\"1\" class=\"dataframe\">\n",
       "  <thead>\n",
       "    <tr style=\"text-align: right;\">\n",
       "      <th></th>\n",
       "      <th>media_or_ad.like_count</th>\n",
       "      <th>media_or_ad.taken_at</th>\n",
       "      <th>media_or_ad.comment_count</th>\n",
       "      <th>media_or_ad.id</th>\n",
       "    </tr>\n",
       "  </thead>\n",
       "  <tbody>\n",
       "    <tr>\n",
       "      <th>0</th>\n",
       "      <td>70.0</td>\n",
       "      <td>1.651070e+09</td>\n",
       "      <td>5.0</td>\n",
       "      <td>2825703344821840301_7390080667</td>\n",
       "    </tr>\n",
       "    <tr>\n",
       "      <th>1</th>\n",
       "      <td>59.0</td>\n",
       "      <td>1.651045e+09</td>\n",
       "      <td>2.0</td>\n",
       "      <td>2825494429055265027_10247312710</td>\n",
       "    </tr>\n",
       "    <tr>\n",
       "      <th>3</th>\n",
       "      <td>82.0</td>\n",
       "      <td>1.650729e+09</td>\n",
       "      <td>2.0</td>\n",
       "      <td>2822843581984100655_17656227282</td>\n",
       "    </tr>\n",
       "    <tr>\n",
       "      <th>4</th>\n",
       "      <td>58.0</td>\n",
       "      <td>1.650983e+09</td>\n",
       "      <td>2.0</td>\n",
       "      <td>2824976630020416285_17656227282</td>\n",
       "    </tr>\n",
       "    <tr>\n",
       "      <th>5</th>\n",
       "      <td>97.0</td>\n",
       "      <td>1.650199e+09</td>\n",
       "      <td>2.0</td>\n",
       "      <td>2818398073938254549_7118111162</td>\n",
       "    </tr>\n",
       "    <tr>\n",
       "      <th>6</th>\n",
       "      <td>59.0</td>\n",
       "      <td>1.650175e+09</td>\n",
       "      <td>0.0</td>\n",
       "      <td>2818190918898067153_17656227282</td>\n",
       "    </tr>\n",
       "    <tr>\n",
       "      <th>7</th>\n",
       "      <td>49.0</td>\n",
       "      <td>1.649860e+09</td>\n",
       "      <td>7.0</td>\n",
       "      <td>2815551251024101158_10247312710</td>\n",
       "    </tr>\n",
       "    <tr>\n",
       "      <th>8</th>\n",
       "      <td>31.0</td>\n",
       "      <td>1.650017e+09</td>\n",
       "      <td>0.0</td>\n",
       "      <td>2816872016205358428_19224028436</td>\n",
       "    </tr>\n",
       "    <tr>\n",
       "      <th>9</th>\n",
       "      <td>37.0</td>\n",
       "      <td>1.649597e+09</td>\n",
       "      <td>0.0</td>\n",
       "      <td>2813341828629931895_7390080667</td>\n",
       "    </tr>\n",
       "    <tr>\n",
       "      <th>10</th>\n",
       "      <td>58.0</td>\n",
       "      <td>1.649675e+09</td>\n",
       "      <td>0.0</td>\n",
       "      <td>2814004301263794034_7118111162</td>\n",
       "    </tr>\n",
       "    <tr>\n",
       "      <th>11</th>\n",
       "      <td>39.0</td>\n",
       "      <td>1.649910e+09</td>\n",
       "      <td>1.0</td>\n",
       "      <td>2815975649376548170_19224028436</td>\n",
       "    </tr>\n",
       "  </tbody>\n",
       "</table>\n",
       "</div>"
      ],
      "text/plain": [
       "    media_or_ad.like_count  media_or_ad.taken_at  media_or_ad.comment_count  \\\n",
       "0                     70.0          1.651070e+09                        5.0   \n",
       "1                     59.0          1.651045e+09                        2.0   \n",
       "3                     82.0          1.650729e+09                        2.0   \n",
       "4                     58.0          1.650983e+09                        2.0   \n",
       "5                     97.0          1.650199e+09                        2.0   \n",
       "6                     59.0          1.650175e+09                        0.0   \n",
       "7                     49.0          1.649860e+09                        7.0   \n",
       "8                     31.0          1.650017e+09                        0.0   \n",
       "9                     37.0          1.649597e+09                        0.0   \n",
       "10                    58.0          1.649675e+09                        0.0   \n",
       "11                    39.0          1.649910e+09                        1.0   \n",
       "\n",
       "                     media_or_ad.id  \n",
       "0    2825703344821840301_7390080667  \n",
       "1   2825494429055265027_10247312710  \n",
       "3   2822843581984100655_17656227282  \n",
       "4   2824976630020416285_17656227282  \n",
       "5    2818398073938254549_7118111162  \n",
       "6   2818190918898067153_17656227282  \n",
       "7   2815551251024101158_10247312710  \n",
       "8   2816872016205358428_19224028436  \n",
       "9    2813341828629931895_7390080667  \n",
       "10   2814004301263794034_7118111162  \n",
       "11  2815975649376548170_19224028436  "
      ]
     },
     "execution_count": 6,
     "metadata": {},
     "output_type": "execute_result"
    }
   ],
   "source": [
    "_q1.dropna(axis=0, inplace=True)\n",
    "_q1"
   ]
  },
  {
   "cell_type": "markdown",
   "metadata": {},
   "source": [
    "Now let us perform these functions on a batch of data files."
   ]
  },
  {
   "cell_type": "code",
   "execution_count": 7,
   "metadata": {},
   "outputs": [
    {
     "name": "stderr",
     "output_type": "stream",
     "text": [
      "/tmp/ipykernel_1183/2194462506.py:6: SettingWithCopyWarning: \n",
      "A value is trying to be set on a copy of a slice from a DataFrame\n",
      "\n",
      "See the caveats in the documentation: https://pandas.pydata.org/pandas-docs/stable/user_guide/indexing.html#returning-a-view-versus-a-copy\n",
      "  _q2.dropna(axis=0, inplace=True)\n"
     ]
    }
   ],
   "source": [
    "f = open(\"data/q2.json\")\n",
    "q2 = json.load(f)\n",
    "f.close()\n",
    "q2 = pd.json_normalize(q2[\"data\"][\"user\"][\"edge_owner_to_timeline_media\"][\"edges\"])\n",
    "_q2 = q2[[\"node.edge_media_preview_like.count\",\"node.taken_at_timestamp\",\"node.edge_media_to_comment.count\",\"node.id\"]]\n",
    "_q2.dropna(axis=0, inplace=True)"
   ]
  },
  {
   "cell_type": "code",
   "execution_count": 8,
   "metadata": {},
   "outputs": [
    {
     "name": "stderr",
     "output_type": "stream",
     "text": [
      "/tmp/ipykernel_1183/2012256093.py:6: SettingWithCopyWarning: \n",
      "A value is trying to be set on a copy of a slice from a DataFrame\n",
      "\n",
      "See the caveats in the documentation: https://pandas.pydata.org/pandas-docs/stable/user_guide/indexing.html#returning-a-view-versus-a-copy\n",
      "  _q3.dropna(axis=0, inplace=True)\n"
     ]
    }
   ],
   "source": [
    "f = open(\"data/q3.json\")\n",
    "q3 = json.load(f)\n",
    "f.close()\n",
    "q3 = pd.json_normalize(q3[\"data\"][\"user\"][\"edge_owner_to_timeline_media\"][\"edges\"])\n",
    "_q3 = q3[[\"node.edge_media_preview_like.count\",\"node.taken_at_timestamp\",\"node.edge_media_to_comment.count\",\"node.id\"]]\n",
    "_q3.dropna(axis=0, inplace=True)"
   ]
  },
  {
   "cell_type": "code",
   "execution_count": 9,
   "metadata": {},
   "outputs": [
    {
     "name": "stderr",
     "output_type": "stream",
     "text": [
      "/tmp/ipykernel_1183/842941709.py:6: SettingWithCopyWarning: \n",
      "A value is trying to be set on a copy of a slice from a DataFrame\n",
      "\n",
      "See the caveats in the documentation: https://pandas.pydata.org/pandas-docs/stable/user_guide/indexing.html#returning-a-view-versus-a-copy\n",
      "  _q4.dropna(axis=0, inplace=True)\n"
     ]
    }
   ],
   "source": [
    "f = open(\"data/q4.json\")\n",
    "q4 = json.load(f)\n",
    "f.close()\n",
    "q4 = pd.json_normalize(q4[\"data\"][\"user\"][\"edge_owner_to_timeline_media\"][\"edges\"])\n",
    "_q4 = q4[[\"node.edge_media_preview_like.count\",\"node.taken_at_timestamp\",\"node.edge_media_to_comment.count\",\"node.id\"]]\n",
    "_q4.dropna(axis=0, inplace=True)"
   ]
  },
  {
   "cell_type": "code",
   "execution_count": 10,
   "metadata": {},
   "outputs": [
    {
     "name": "stderr",
     "output_type": "stream",
     "text": [
      "/tmp/ipykernel_1183/629327619.py:6: SettingWithCopyWarning: \n",
      "A value is trying to be set on a copy of a slice from a DataFrame\n",
      "\n",
      "See the caveats in the documentation: https://pandas.pydata.org/pandas-docs/stable/user_guide/indexing.html#returning-a-view-versus-a-copy\n",
      "  _q5.dropna(axis=0, inplace=True)\n"
     ]
    }
   ],
   "source": [
    "f = open(\"data/q5.json\")\n",
    "q5 = json.load(f)\n",
    "f.close()\n",
    "q5 = pd.json_normalize(q5[\"data\"][\"user\"][\"edge_owner_to_timeline_media\"][\"edges\"])\n",
    "_q5 = q5[[\"node.edge_media_preview_like.count\",\"node.taken_at_timestamp\",\"node.edge_media_to_comment.count\",\"node.id\"]]\n",
    "_q5.dropna(axis=0, inplace=True)"
   ]
  },
  {
   "cell_type": "code",
   "execution_count": 11,
   "metadata": {},
   "outputs": [
    {
     "name": "stderr",
     "output_type": "stream",
     "text": [
      "/tmp/ipykernel_1183/795358187.py:6: SettingWithCopyWarning: \n",
      "A value is trying to be set on a copy of a slice from a DataFrame\n",
      "\n",
      "See the caveats in the documentation: https://pandas.pydata.org/pandas-docs/stable/user_guide/indexing.html#returning-a-view-versus-a-copy\n",
      "  _q6.dropna(axis=0, inplace=True)\n"
     ]
    }
   ],
   "source": [
    "f = open(\"data/q6.json\")\n",
    "q6 = json.load(f)\n",
    "f.close()\n",
    "q6 = pd.json_normalize(q6[\"data\"][\"user\"][\"edge_owner_to_timeline_media\"][\"edges\"])\n",
    "_q6 = q6[[\"node.edge_media_preview_like.count\",\"node.taken_at_timestamp\",\"node.edge_media_to_comment.count\",\"node.id\"]]\n",
    "_q6.dropna(axis=0, inplace=True)"
   ]
  },
  {
   "cell_type": "code",
   "execution_count": 12,
   "metadata": {},
   "outputs": [
    {
     "name": "stderr",
     "output_type": "stream",
     "text": [
      "/tmp/ipykernel_1183/2577485863.py:6: SettingWithCopyWarning: \n",
      "A value is trying to be set on a copy of a slice from a DataFrame\n",
      "\n",
      "See the caveats in the documentation: https://pandas.pydata.org/pandas-docs/stable/user_guide/indexing.html#returning-a-view-versus-a-copy\n",
      "  _q7.dropna(axis=0, inplace=True)\n"
     ]
    }
   ],
   "source": [
    "f = open(\"data/q7.json\")\n",
    "q7 = json.load(f)\n",
    "f.close()\n",
    "q7 = pd.json_normalize(q7[\"data\"][\"user\"][\"edge_owner_to_timeline_media\"][\"edges\"])\n",
    "_q7 = q7[[\"node.edge_media_preview_like.count\",\"node.taken_at_timestamp\",\"node.edge_media_to_comment.count\",\"node.id\"]]\n",
    "_q7.dropna(axis=0, inplace=True)"
   ]
  },
  {
   "cell_type": "code",
   "execution_count": 13,
   "metadata": {},
   "outputs": [
    {
     "name": "stderr",
     "output_type": "stream",
     "text": [
      "/tmp/ipykernel_1183/969634534.py:6: SettingWithCopyWarning: \n",
      "A value is trying to be set on a copy of a slice from a DataFrame\n",
      "\n",
      "See the caveats in the documentation: https://pandas.pydata.org/pandas-docs/stable/user_guide/indexing.html#returning-a-view-versus-a-copy\n",
      "  _q8.dropna(axis=0, inplace=True)\n"
     ]
    }
   ],
   "source": [
    "f = open(\"data/q8.json\")\n",
    "q8 = json.load(f)\n",
    "f.close()\n",
    "q8 = pd.json_normalize(q8[\"data\"][\"user\"][\"edge_owner_to_timeline_media\"][\"edges\"])\n",
    "_q8 = q8[[\"node.edge_media_preview_like.count\",\"node.taken_at_timestamp\",\"node.edge_media_to_comment.count\",\"node.id\"]]\n",
    "_q8.dropna(axis=0, inplace=True)"
   ]
  },
  {
   "cell_type": "code",
   "execution_count": 14,
   "metadata": {},
   "outputs": [
    {
     "name": "stderr",
     "output_type": "stream",
     "text": [
      "/tmp/ipykernel_1183/3129605296.py:6: SettingWithCopyWarning: \n",
      "A value is trying to be set on a copy of a slice from a DataFrame\n",
      "\n",
      "See the caveats in the documentation: https://pandas.pydata.org/pandas-docs/stable/user_guide/indexing.html#returning-a-view-versus-a-copy\n",
      "  _q9.dropna(axis=0, inplace=True)\n"
     ]
    }
   ],
   "source": [
    "f = open(\"data/q9.json\")\n",
    "q9 = json.load(f)\n",
    "f.close()\n",
    "q9 = pd.json_normalize(q9[\"data\"][\"user\"][\"edge_owner_to_timeline_media\"][\"edges\"])\n",
    "_q9 = q9[[\"node.edge_media_preview_like.count\",\"node.taken_at_timestamp\",\"node.edge_media_to_comment.count\",\"node.id\"]]\n",
    "_q9.dropna(axis=0, inplace=True)"
   ]
  },
  {
   "cell_type": "code",
   "execution_count": 15,
   "metadata": {},
   "outputs": [
    {
     "name": "stderr",
     "output_type": "stream",
     "text": [
      "/tmp/ipykernel_1183/870379334.py:6: SettingWithCopyWarning: \n",
      "A value is trying to be set on a copy of a slice from a DataFrame\n",
      "\n",
      "See the caveats in the documentation: https://pandas.pydata.org/pandas-docs/stable/user_guide/indexing.html#returning-a-view-versus-a-copy\n",
      "  _q10.dropna(axis=0, inplace=True)\n"
     ]
    }
   ],
   "source": [
    "f = open(\"data/q10.json\")\n",
    "q10 = json.load(f)\n",
    "f.close()\n",
    "q10 = pd.json_normalize(q10[\"data\"][\"user\"][\"edge_owner_to_timeline_media\"][\"edges\"])\n",
    "_q10 = q10[[\"node.edge_media_preview_like.count\",\"node.taken_at_timestamp\",\"node.edge_media_to_comment.count\",\"node.id\"]]\n",
    "_q10.dropna(axis=0, inplace=True)"
   ]
  },
  {
   "cell_type": "code",
   "execution_count": 16,
   "metadata": {},
   "outputs": [
    {
     "name": "stderr",
     "output_type": "stream",
     "text": [
      "/tmp/ipykernel_1183/2954780599.py:6: SettingWithCopyWarning: \n",
      "A value is trying to be set on a copy of a slice from a DataFrame\n",
      "\n",
      "See the caveats in the documentation: https://pandas.pydata.org/pandas-docs/stable/user_guide/indexing.html#returning-a-view-versus-a-copy\n",
      "  _q11.dropna(axis=0, inplace=True)\n"
     ]
    }
   ],
   "source": [
    "f = open(\"data/q11.json\")\n",
    "q11 = json.load(f)\n",
    "f.close()\n",
    "q11 = pd.json_normalize(q11[\"data\"][\"user\"][\"edge_owner_to_timeline_media\"][\"edges\"])\n",
    "_q11 = q11[[\"node.edge_media_preview_like.count\",\"node.taken_at_timestamp\",\"node.edge_media_to_comment.count\",\"node.id\"]]\n",
    "_q11.dropna(axis=0, inplace=True)"
   ]
  },
  {
   "cell_type": "code",
   "execution_count": 17,
   "metadata": {},
   "outputs": [
    {
     "name": "stderr",
     "output_type": "stream",
     "text": [
      "/tmp/ipykernel_1183/2211214653.py:6: SettingWithCopyWarning: \n",
      "A value is trying to be set on a copy of a slice from a DataFrame\n",
      "\n",
      "See the caveats in the documentation: https://pandas.pydata.org/pandas-docs/stable/user_guide/indexing.html#returning-a-view-versus-a-copy\n",
      "  _q12.dropna(axis=0, inplace=True)\n"
     ]
    }
   ],
   "source": [
    "f = open(\"data/q12.json\")\n",
    "q12 = json.load(f)\n",
    "f.close()\n",
    "q12 = pd.json_normalize(q12[\"data\"][\"user\"][\"edge_owner_to_timeline_media\"][\"edges\"])\n",
    "_q12 = q12[[\"node.edge_media_preview_like.count\",\"node.taken_at_timestamp\",\"node.edge_media_to_comment.count\",\"node.id\"]]\n",
    "_q12.dropna(axis=0, inplace=True)"
   ]
  },
  {
   "cell_type": "code",
   "execution_count": 18,
   "metadata": {},
   "outputs": [
    {
     "name": "stderr",
     "output_type": "stream",
     "text": [
      "/tmp/ipykernel_1183/2064321461.py:6: SettingWithCopyWarning: \n",
      "A value is trying to be set on a copy of a slice from a DataFrame\n",
      "\n",
      "See the caveats in the documentation: https://pandas.pydata.org/pandas-docs/stable/user_guide/indexing.html#returning-a-view-versus-a-copy\n",
      "  _q13.dropna(axis=0, inplace=True)\n"
     ]
    }
   ],
   "source": [
    "f = open(\"data/q13.json\")\n",
    "q13 = json.load(f)\n",
    "f.close()\n",
    "q13 = pd.json_normalize(q13[\"data\"][\"user\"][\"edge_owner_to_timeline_media\"][\"edges\"])\n",
    "_q13 = q13[[\"node.edge_media_preview_like.count\",\"node.taken_at_timestamp\",\"node.edge_media_to_comment.count\",\"node.id\"]]\n",
    "_q13.dropna(axis=0, inplace=True)"
   ]
  },
  {
   "cell_type": "code",
   "execution_count": 19,
   "metadata": {},
   "outputs": [
    {
     "name": "stderr",
     "output_type": "stream",
     "text": [
      "/tmp/ipykernel_1183/1812785603.py:6: SettingWithCopyWarning: \n",
      "A value is trying to be set on a copy of a slice from a DataFrame\n",
      "\n",
      "See the caveats in the documentation: https://pandas.pydata.org/pandas-docs/stable/user_guide/indexing.html#returning-a-view-versus-a-copy\n",
      "  _q14.dropna(axis=0, inplace=True)\n"
     ]
    }
   ],
   "source": [
    "f = open(\"data/q14.json\")\n",
    "q14 = json.load(f)\n",
    "f.close()\n",
    "q14 = pd.json_normalize(q14[\"data\"][\"user\"][\"edge_owner_to_timeline_media\"][\"edges\"])\n",
    "_q14 = q14[[\"node.edge_media_preview_like.count\",\"node.taken_at_timestamp\",\"node.edge_media_to_comment.count\",\"node.id\"]]\n",
    "_q14.dropna(axis=0, inplace=True)"
   ]
  },
  {
   "cell_type": "code",
   "execution_count": 20,
   "metadata": {},
   "outputs": [
    {
     "name": "stderr",
     "output_type": "stream",
     "text": [
      "/tmp/ipykernel_1183/343567615.py:6: SettingWithCopyWarning: \n",
      "A value is trying to be set on a copy of a slice from a DataFrame\n",
      "\n",
      "See the caveats in the documentation: https://pandas.pydata.org/pandas-docs/stable/user_guide/indexing.html#returning-a-view-versus-a-copy\n",
      "  _q15.dropna(axis=0, inplace=True)\n"
     ]
    }
   ],
   "source": [
    "f = open(\"data/q15.json\")\n",
    "q15 = json.load(f)\n",
    "f.close()\n",
    "q15 = pd.json_normalize(q15[\"data\"][\"user\"][\"edge_owner_to_timeline_media\"][\"edges\"])\n",
    "_q15 = q15[[\"node.edge_media_preview_like.count\",\"node.taken_at_timestamp\",\"node.edge_media_to_comment.count\",\"node.id\"]]\n",
    "_q15.dropna(axis=0, inplace=True)"
   ]
  },
  {
   "cell_type": "markdown",
   "metadata": {},
   "source": [
    "Now, that we have done the heavy lifting i.e. data extraction let us dress it."
   ]
  },
  {
   "cell_type": "code",
   "execution_count": 21,
   "metadata": {},
   "outputs": [
    {
     "data": {
      "text/html": [
       "<div>\n",
       "<style scoped>\n",
       "    .dataframe tbody tr th:only-of-type {\n",
       "        vertical-align: middle;\n",
       "    }\n",
       "\n",
       "    .dataframe tbody tr th {\n",
       "        vertical-align: top;\n",
       "    }\n",
       "\n",
       "    .dataframe thead th {\n",
       "        text-align: right;\n",
       "    }\n",
       "</style>\n",
       "<table border=\"1\" class=\"dataframe\">\n",
       "  <thead>\n",
       "    <tr style=\"text-align: right;\">\n",
       "      <th></th>\n",
       "      <th>node.edge_media_preview_like.count</th>\n",
       "      <th>node.taken_at_timestamp</th>\n",
       "      <th>node.edge_media_to_comment.count</th>\n",
       "      <th>node.id</th>\n",
       "    </tr>\n",
       "  </thead>\n",
       "  <tbody>\n",
       "    <tr>\n",
       "      <th>0</th>\n",
       "      <td>65</td>\n",
       "      <td>1645770572</td>\n",
       "      <td>2</td>\n",
       "      <td>2781247599309377085</td>\n",
       "    </tr>\n",
       "    <tr>\n",
       "      <th>1</th>\n",
       "      <td>57</td>\n",
       "      <td>1645691396</td>\n",
       "      <td>0</td>\n",
       "      <td>2780583428368406936</td>\n",
       "    </tr>\n",
       "    <tr>\n",
       "      <th>2</th>\n",
       "      <td>80</td>\n",
       "      <td>1645627200</td>\n",
       "      <td>0</td>\n",
       "      <td>2780044910982345011</td>\n",
       "    </tr>\n",
       "    <tr>\n",
       "      <th>3</th>\n",
       "      <td>59</td>\n",
       "      <td>1644915225</td>\n",
       "      <td>0</td>\n",
       "      <td>2774072433806667791</td>\n",
       "    </tr>\n",
       "    <tr>\n",
       "      <th>4</th>\n",
       "      <td>72</td>\n",
       "      <td>1644828209</td>\n",
       "      <td>0</td>\n",
       "      <td>2773342489157725894</td>\n",
       "    </tr>\n",
       "    <tr>\n",
       "      <th>...</th>\n",
       "      <td>...</td>\n",
       "      <td>...</td>\n",
       "      <td>...</td>\n",
       "      <td>...</td>\n",
       "    </tr>\n",
       "    <tr>\n",
       "      <th>163</th>\n",
       "      <td>28</td>\n",
       "      <td>1590372403</td>\n",
       "      <td>0</td>\n",
       "      <td>2316534080085092678</td>\n",
       "    </tr>\n",
       "    <tr>\n",
       "      <th>164</th>\n",
       "      <td>31</td>\n",
       "      <td>1589598651</td>\n",
       "      <td>0</td>\n",
       "      <td>2310043374034217332</td>\n",
       "    </tr>\n",
       "    <tr>\n",
       "      <th>165</th>\n",
       "      <td>29</td>\n",
       "      <td>1589163610</td>\n",
       "      <td>0</td>\n",
       "      <td>2306393944617674712</td>\n",
       "    </tr>\n",
       "    <tr>\n",
       "      <th>166</th>\n",
       "      <td>30</td>\n",
       "      <td>1589085173</td>\n",
       "      <td>0</td>\n",
       "      <td>2305736012905571426</td>\n",
       "    </tr>\n",
       "    <tr>\n",
       "      <th>167</th>\n",
       "      <td>33</td>\n",
       "      <td>1588879650</td>\n",
       "      <td>0</td>\n",
       "      <td>2304011958825698076</td>\n",
       "    </tr>\n",
       "  </tbody>\n",
       "</table>\n",
       "<p>168 rows × 4 columns</p>\n",
       "</div>"
      ],
      "text/plain": [
       "     node.edge_media_preview_like.count  node.taken_at_timestamp  \\\n",
       "0                                    65               1645770572   \n",
       "1                                    57               1645691396   \n",
       "2                                    80               1645627200   \n",
       "3                                    59               1644915225   \n",
       "4                                    72               1644828209   \n",
       "..                                  ...                      ...   \n",
       "163                                  28               1590372403   \n",
       "164                                  31               1589598651   \n",
       "165                                  29               1589163610   \n",
       "166                                  30               1589085173   \n",
       "167                                  33               1588879650   \n",
       "\n",
       "     node.edge_media_to_comment.count              node.id  \n",
       "0                                   2  2781247599309377085  \n",
       "1                                   0  2780583428368406936  \n",
       "2                                   0  2780044910982345011  \n",
       "3                                   0  2774072433806667791  \n",
       "4                                   0  2773342489157725894  \n",
       "..                                ...                  ...  \n",
       "163                                 0  2316534080085092678  \n",
       "164                                 0  2310043374034217332  \n",
       "165                                 0  2306393944617674712  \n",
       "166                                 0  2305736012905571426  \n",
       "167                                 0  2304011958825698076  \n",
       "\n",
       "[168 rows x 4 columns]"
      ]
     },
     "execution_count": 21,
     "metadata": {},
     "output_type": "execute_result"
    }
   ],
   "source": [
    "_qc = pd.concat([_q2, _q3,_q4,_q5,_q6,_q7,_q8,_q9,_q10,_q11,_q12,_q13,_q14,_q15], ignore_index=True)\n",
    "_qc"
   ]
  },
  {
   "cell_type": "code",
   "execution_count": 22,
   "metadata": {},
   "outputs": [
    {
     "data": {
      "text/html": [
       "<div>\n",
       "<style scoped>\n",
       "    .dataframe tbody tr th:only-of-type {\n",
       "        vertical-align: middle;\n",
       "    }\n",
       "\n",
       "    .dataframe tbody tr th {\n",
       "        vertical-align: top;\n",
       "    }\n",
       "\n",
       "    .dataframe thead th {\n",
       "        text-align: right;\n",
       "    }\n",
       "</style>\n",
       "<table border=\"1\" class=\"dataframe\">\n",
       "  <thead>\n",
       "    <tr style=\"text-align: right;\">\n",
       "      <th></th>\n",
       "      <th>likes</th>\n",
       "      <th>time</th>\n",
       "      <th>comments</th>\n",
       "      <th>id</th>\n",
       "    </tr>\n",
       "  </thead>\n",
       "  <tbody>\n",
       "    <tr>\n",
       "      <th>0</th>\n",
       "      <td>70.0</td>\n",
       "      <td>1.651070e+09</td>\n",
       "      <td>5.0</td>\n",
       "      <td>2825703344821840301_7390080667</td>\n",
       "    </tr>\n",
       "    <tr>\n",
       "      <th>1</th>\n",
       "      <td>59.0</td>\n",
       "      <td>1.651045e+09</td>\n",
       "      <td>2.0</td>\n",
       "      <td>2825494429055265027_10247312710</td>\n",
       "    </tr>\n",
       "    <tr>\n",
       "      <th>3</th>\n",
       "      <td>82.0</td>\n",
       "      <td>1.650729e+09</td>\n",
       "      <td>2.0</td>\n",
       "      <td>2822843581984100655_17656227282</td>\n",
       "    </tr>\n",
       "    <tr>\n",
       "      <th>4</th>\n",
       "      <td>58.0</td>\n",
       "      <td>1.650983e+09</td>\n",
       "      <td>2.0</td>\n",
       "      <td>2824976630020416285_17656227282</td>\n",
       "    </tr>\n",
       "    <tr>\n",
       "      <th>5</th>\n",
       "      <td>97.0</td>\n",
       "      <td>1.650199e+09</td>\n",
       "      <td>2.0</td>\n",
       "      <td>2818398073938254549_7118111162</td>\n",
       "    </tr>\n",
       "    <tr>\n",
       "      <th>6</th>\n",
       "      <td>59.0</td>\n",
       "      <td>1.650175e+09</td>\n",
       "      <td>0.0</td>\n",
       "      <td>2818190918898067153_17656227282</td>\n",
       "    </tr>\n",
       "    <tr>\n",
       "      <th>7</th>\n",
       "      <td>49.0</td>\n",
       "      <td>1.649860e+09</td>\n",
       "      <td>7.0</td>\n",
       "      <td>2815551251024101158_10247312710</td>\n",
       "    </tr>\n",
       "    <tr>\n",
       "      <th>8</th>\n",
       "      <td>31.0</td>\n",
       "      <td>1.650017e+09</td>\n",
       "      <td>0.0</td>\n",
       "      <td>2816872016205358428_19224028436</td>\n",
       "    </tr>\n",
       "    <tr>\n",
       "      <th>9</th>\n",
       "      <td>37.0</td>\n",
       "      <td>1.649597e+09</td>\n",
       "      <td>0.0</td>\n",
       "      <td>2813341828629931895_7390080667</td>\n",
       "    </tr>\n",
       "    <tr>\n",
       "      <th>10</th>\n",
       "      <td>58.0</td>\n",
       "      <td>1.649675e+09</td>\n",
       "      <td>0.0</td>\n",
       "      <td>2814004301263794034_7118111162</td>\n",
       "    </tr>\n",
       "    <tr>\n",
       "      <th>11</th>\n",
       "      <td>39.0</td>\n",
       "      <td>1.649910e+09</td>\n",
       "      <td>1.0</td>\n",
       "      <td>2815975649376548170_19224028436</td>\n",
       "    </tr>\n",
       "  </tbody>\n",
       "</table>\n",
       "</div>"
      ],
      "text/plain": [
       "    likes          time  comments                               id\n",
       "0    70.0  1.651070e+09       5.0   2825703344821840301_7390080667\n",
       "1    59.0  1.651045e+09       2.0  2825494429055265027_10247312710\n",
       "3    82.0  1.650729e+09       2.0  2822843581984100655_17656227282\n",
       "4    58.0  1.650983e+09       2.0  2824976630020416285_17656227282\n",
       "5    97.0  1.650199e+09       2.0   2818398073938254549_7118111162\n",
       "6    59.0  1.650175e+09       0.0  2818190918898067153_17656227282\n",
       "7    49.0  1.649860e+09       7.0  2815551251024101158_10247312710\n",
       "8    31.0  1.650017e+09       0.0  2816872016205358428_19224028436\n",
       "9    37.0  1.649597e+09       0.0   2813341828629931895_7390080667\n",
       "10   58.0  1.649675e+09       0.0   2814004301263794034_7118111162\n",
       "11   39.0  1.649910e+09       1.0  2815975649376548170_19224028436"
      ]
     },
     "execution_count": 22,
     "metadata": {},
     "output_type": "execute_result"
    }
   ],
   "source": [
    "_q1.columns=['likes','time','comments','id']\n",
    "_q1"
   ]
  },
  {
   "cell_type": "code",
   "execution_count": 23,
   "metadata": {},
   "outputs": [
    {
     "data": {
      "text/html": [
       "<div>\n",
       "<style scoped>\n",
       "    .dataframe tbody tr th:only-of-type {\n",
       "        vertical-align: middle;\n",
       "    }\n",
       "\n",
       "    .dataframe tbody tr th {\n",
       "        vertical-align: top;\n",
       "    }\n",
       "\n",
       "    .dataframe thead th {\n",
       "        text-align: right;\n",
       "    }\n",
       "</style>\n",
       "<table border=\"1\" class=\"dataframe\">\n",
       "  <thead>\n",
       "    <tr style=\"text-align: right;\">\n",
       "      <th></th>\n",
       "      <th>likes</th>\n",
       "      <th>time</th>\n",
       "      <th>comments</th>\n",
       "      <th>id</th>\n",
       "    </tr>\n",
       "  </thead>\n",
       "  <tbody>\n",
       "    <tr>\n",
       "      <th>0</th>\n",
       "      <td>65</td>\n",
       "      <td>1645770572</td>\n",
       "      <td>2</td>\n",
       "      <td>2781247599309377085</td>\n",
       "    </tr>\n",
       "    <tr>\n",
       "      <th>1</th>\n",
       "      <td>57</td>\n",
       "      <td>1645691396</td>\n",
       "      <td>0</td>\n",
       "      <td>2780583428368406936</td>\n",
       "    </tr>\n",
       "    <tr>\n",
       "      <th>2</th>\n",
       "      <td>80</td>\n",
       "      <td>1645627200</td>\n",
       "      <td>0</td>\n",
       "      <td>2780044910982345011</td>\n",
       "    </tr>\n",
       "    <tr>\n",
       "      <th>3</th>\n",
       "      <td>59</td>\n",
       "      <td>1644915225</td>\n",
       "      <td>0</td>\n",
       "      <td>2774072433806667791</td>\n",
       "    </tr>\n",
       "    <tr>\n",
       "      <th>4</th>\n",
       "      <td>72</td>\n",
       "      <td>1644828209</td>\n",
       "      <td>0</td>\n",
       "      <td>2773342489157725894</td>\n",
       "    </tr>\n",
       "    <tr>\n",
       "      <th>...</th>\n",
       "      <td>...</td>\n",
       "      <td>...</td>\n",
       "      <td>...</td>\n",
       "      <td>...</td>\n",
       "    </tr>\n",
       "    <tr>\n",
       "      <th>163</th>\n",
       "      <td>28</td>\n",
       "      <td>1590372403</td>\n",
       "      <td>0</td>\n",
       "      <td>2316534080085092678</td>\n",
       "    </tr>\n",
       "    <tr>\n",
       "      <th>164</th>\n",
       "      <td>31</td>\n",
       "      <td>1589598651</td>\n",
       "      <td>0</td>\n",
       "      <td>2310043374034217332</td>\n",
       "    </tr>\n",
       "    <tr>\n",
       "      <th>165</th>\n",
       "      <td>29</td>\n",
       "      <td>1589163610</td>\n",
       "      <td>0</td>\n",
       "      <td>2306393944617674712</td>\n",
       "    </tr>\n",
       "    <tr>\n",
       "      <th>166</th>\n",
       "      <td>30</td>\n",
       "      <td>1589085173</td>\n",
       "      <td>0</td>\n",
       "      <td>2305736012905571426</td>\n",
       "    </tr>\n",
       "    <tr>\n",
       "      <th>167</th>\n",
       "      <td>33</td>\n",
       "      <td>1588879650</td>\n",
       "      <td>0</td>\n",
       "      <td>2304011958825698076</td>\n",
       "    </tr>\n",
       "  </tbody>\n",
       "</table>\n",
       "<p>168 rows × 4 columns</p>\n",
       "</div>"
      ],
      "text/plain": [
       "     likes        time  comments                   id\n",
       "0       65  1645770572         2  2781247599309377085\n",
       "1       57  1645691396         0  2780583428368406936\n",
       "2       80  1645627200         0  2780044910982345011\n",
       "3       59  1644915225         0  2774072433806667791\n",
       "4       72  1644828209         0  2773342489157725894\n",
       "..     ...         ...       ...                  ...\n",
       "163     28  1590372403         0  2316534080085092678\n",
       "164     31  1589598651         0  2310043374034217332\n",
       "165     29  1589163610         0  2306393944617674712\n",
       "166     30  1589085173         0  2305736012905571426\n",
       "167     33  1588879650         0  2304011958825698076\n",
       "\n",
       "[168 rows x 4 columns]"
      ]
     },
     "execution_count": 23,
     "metadata": {},
     "output_type": "execute_result"
    }
   ],
   "source": [
    "_qc.columns=['likes','time','comments','id']\n",
    "_qc"
   ]
  },
  {
   "cell_type": "code",
   "execution_count": 24,
   "metadata": {},
   "outputs": [
    {
     "data": {
      "text/html": [
       "<div>\n",
       "<style scoped>\n",
       "    .dataframe tbody tr th:only-of-type {\n",
       "        vertical-align: middle;\n",
       "    }\n",
       "\n",
       "    .dataframe tbody tr th {\n",
       "        vertical-align: top;\n",
       "    }\n",
       "\n",
       "    .dataframe thead th {\n",
       "        text-align: right;\n",
       "    }\n",
       "</style>\n",
       "<table border=\"1\" class=\"dataframe\">\n",
       "  <thead>\n",
       "    <tr style=\"text-align: right;\">\n",
       "      <th></th>\n",
       "      <th>likes</th>\n",
       "      <th>time</th>\n",
       "      <th>comments</th>\n",
       "      <th>id</th>\n",
       "    </tr>\n",
       "  </thead>\n",
       "  <tbody>\n",
       "    <tr>\n",
       "      <th>0</th>\n",
       "      <td>70.0</td>\n",
       "      <td>1.651070e+09</td>\n",
       "      <td>5.0</td>\n",
       "      <td>2825703344821840301_7390080667</td>\n",
       "    </tr>\n",
       "    <tr>\n",
       "      <th>1</th>\n",
       "      <td>59.0</td>\n",
       "      <td>1.651045e+09</td>\n",
       "      <td>2.0</td>\n",
       "      <td>2825494429055265027_10247312710</td>\n",
       "    </tr>\n",
       "    <tr>\n",
       "      <th>2</th>\n",
       "      <td>82.0</td>\n",
       "      <td>1.650729e+09</td>\n",
       "      <td>2.0</td>\n",
       "      <td>2822843581984100655_17656227282</td>\n",
       "    </tr>\n",
       "    <tr>\n",
       "      <th>3</th>\n",
       "      <td>58.0</td>\n",
       "      <td>1.650983e+09</td>\n",
       "      <td>2.0</td>\n",
       "      <td>2824976630020416285_17656227282</td>\n",
       "    </tr>\n",
       "    <tr>\n",
       "      <th>4</th>\n",
       "      <td>97.0</td>\n",
       "      <td>1.650199e+09</td>\n",
       "      <td>2.0</td>\n",
       "      <td>2818398073938254549_7118111162</td>\n",
       "    </tr>\n",
       "    <tr>\n",
       "      <th>...</th>\n",
       "      <td>...</td>\n",
       "      <td>...</td>\n",
       "      <td>...</td>\n",
       "      <td>...</td>\n",
       "    </tr>\n",
       "    <tr>\n",
       "      <th>174</th>\n",
       "      <td>28.0</td>\n",
       "      <td>1.590372e+09</td>\n",
       "      <td>0.0</td>\n",
       "      <td>2316534080085092678</td>\n",
       "    </tr>\n",
       "    <tr>\n",
       "      <th>175</th>\n",
       "      <td>31.0</td>\n",
       "      <td>1.589599e+09</td>\n",
       "      <td>0.0</td>\n",
       "      <td>2310043374034217332</td>\n",
       "    </tr>\n",
       "    <tr>\n",
       "      <th>176</th>\n",
       "      <td>29.0</td>\n",
       "      <td>1.589164e+09</td>\n",
       "      <td>0.0</td>\n",
       "      <td>2306393944617674712</td>\n",
       "    </tr>\n",
       "    <tr>\n",
       "      <th>177</th>\n",
       "      <td>30.0</td>\n",
       "      <td>1.589085e+09</td>\n",
       "      <td>0.0</td>\n",
       "      <td>2305736012905571426</td>\n",
       "    </tr>\n",
       "    <tr>\n",
       "      <th>178</th>\n",
       "      <td>33.0</td>\n",
       "      <td>1.588880e+09</td>\n",
       "      <td>0.0</td>\n",
       "      <td>2304011958825698076</td>\n",
       "    </tr>\n",
       "  </tbody>\n",
       "</table>\n",
       "<p>179 rows × 4 columns</p>\n",
       "</div>"
      ],
      "text/plain": [
       "     likes          time  comments                               id\n",
       "0     70.0  1.651070e+09       5.0   2825703344821840301_7390080667\n",
       "1     59.0  1.651045e+09       2.0  2825494429055265027_10247312710\n",
       "2     82.0  1.650729e+09       2.0  2822843581984100655_17656227282\n",
       "3     58.0  1.650983e+09       2.0  2824976630020416285_17656227282\n",
       "4     97.0  1.650199e+09       2.0   2818398073938254549_7118111162\n",
       "..     ...           ...       ...                              ...\n",
       "174   28.0  1.590372e+09       0.0              2316534080085092678\n",
       "175   31.0  1.589599e+09       0.0              2310043374034217332\n",
       "176   29.0  1.589164e+09       0.0              2306393944617674712\n",
       "177   30.0  1.589085e+09       0.0              2305736012905571426\n",
       "178   33.0  1.588880e+09       0.0              2304011958825698076\n",
       "\n",
       "[179 rows x 4 columns]"
      ]
     },
     "execution_count": 24,
     "metadata": {},
     "output_type": "execute_result"
    }
   ],
   "source": [
    "_qc = pd.concat([_q1,_qc], ignore_index=True)\n",
    "_qc"
   ]
  },
  {
   "cell_type": "code",
   "execution_count": 25,
   "metadata": {},
   "outputs": [
    {
     "data": {
      "text/html": [
       "<div>\n",
       "<style scoped>\n",
       "    .dataframe tbody tr th:only-of-type {\n",
       "        vertical-align: middle;\n",
       "    }\n",
       "\n",
       "    .dataframe tbody tr th {\n",
       "        vertical-align: top;\n",
       "    }\n",
       "\n",
       "    .dataframe thead th {\n",
       "        text-align: right;\n",
       "    }\n",
       "</style>\n",
       "<table border=\"1\" class=\"dataframe\">\n",
       "  <thead>\n",
       "    <tr style=\"text-align: right;\">\n",
       "      <th></th>\n",
       "      <th>likes</th>\n",
       "      <th>time</th>\n",
       "      <th>comments</th>\n",
       "      <th>id</th>\n",
       "      <th>date</th>\n",
       "    </tr>\n",
       "  </thead>\n",
       "  <tbody>\n",
       "    <tr>\n",
       "      <th>0</th>\n",
       "      <td>70.0</td>\n",
       "      <td>1.651070e+09</td>\n",
       "      <td>5.0</td>\n",
       "      <td>2825703344821840301_7390080667</td>\n",
       "      <td>2022-04-27 14:35:09</td>\n",
       "    </tr>\n",
       "    <tr>\n",
       "      <th>1</th>\n",
       "      <td>59.0</td>\n",
       "      <td>1.651045e+09</td>\n",
       "      <td>2.0</td>\n",
       "      <td>2825494429055265027_10247312710</td>\n",
       "      <td>2022-04-27 07:40:05</td>\n",
       "    </tr>\n",
       "    <tr>\n",
       "      <th>2</th>\n",
       "      <td>82.0</td>\n",
       "      <td>1.650729e+09</td>\n",
       "      <td>2.0</td>\n",
       "      <td>2822843581984100655_17656227282</td>\n",
       "      <td>2022-04-23 15:53:19</td>\n",
       "    </tr>\n",
       "    <tr>\n",
       "      <th>3</th>\n",
       "      <td>58.0</td>\n",
       "      <td>1.650983e+09</td>\n",
       "      <td>2.0</td>\n",
       "      <td>2824976630020416285_17656227282</td>\n",
       "      <td>2022-04-26 14:31:18</td>\n",
       "    </tr>\n",
       "    <tr>\n",
       "      <th>4</th>\n",
       "      <td>97.0</td>\n",
       "      <td>1.650199e+09</td>\n",
       "      <td>2.0</td>\n",
       "      <td>2818398073938254549_7118111162</td>\n",
       "      <td>2022-04-17 12:40:53</td>\n",
       "    </tr>\n",
       "    <tr>\n",
       "      <th>...</th>\n",
       "      <td>...</td>\n",
       "      <td>...</td>\n",
       "      <td>...</td>\n",
       "      <td>...</td>\n",
       "      <td>...</td>\n",
       "    </tr>\n",
       "    <tr>\n",
       "      <th>174</th>\n",
       "      <td>28.0</td>\n",
       "      <td>1.590372e+09</td>\n",
       "      <td>0.0</td>\n",
       "      <td>2316534080085092678</td>\n",
       "      <td>2020-05-25 02:06:43</td>\n",
       "    </tr>\n",
       "    <tr>\n",
       "      <th>175</th>\n",
       "      <td>31.0</td>\n",
       "      <td>1.589599e+09</td>\n",
       "      <td>0.0</td>\n",
       "      <td>2310043374034217332</td>\n",
       "      <td>2020-05-16 03:10:51</td>\n",
       "    </tr>\n",
       "    <tr>\n",
       "      <th>176</th>\n",
       "      <td>29.0</td>\n",
       "      <td>1.589164e+09</td>\n",
       "      <td>0.0</td>\n",
       "      <td>2306393944617674712</td>\n",
       "      <td>2020-05-11 02:20:10</td>\n",
       "    </tr>\n",
       "    <tr>\n",
       "      <th>177</th>\n",
       "      <td>30.0</td>\n",
       "      <td>1.589085e+09</td>\n",
       "      <td>0.0</td>\n",
       "      <td>2305736012905571426</td>\n",
       "      <td>2020-05-10 04:32:53</td>\n",
       "    </tr>\n",
       "    <tr>\n",
       "      <th>178</th>\n",
       "      <td>33.0</td>\n",
       "      <td>1.588880e+09</td>\n",
       "      <td>0.0</td>\n",
       "      <td>2304011958825698076</td>\n",
       "      <td>2020-05-07 19:27:30</td>\n",
       "    </tr>\n",
       "  </tbody>\n",
       "</table>\n",
       "<p>179 rows × 5 columns</p>\n",
       "</div>"
      ],
      "text/plain": [
       "     likes          time  comments                               id  \\\n",
       "0     70.0  1.651070e+09       5.0   2825703344821840301_7390080667   \n",
       "1     59.0  1.651045e+09       2.0  2825494429055265027_10247312710   \n",
       "2     82.0  1.650729e+09       2.0  2822843581984100655_17656227282   \n",
       "3     58.0  1.650983e+09       2.0  2824976630020416285_17656227282   \n",
       "4     97.0  1.650199e+09       2.0   2818398073938254549_7118111162   \n",
       "..     ...           ...       ...                              ...   \n",
       "174   28.0  1.590372e+09       0.0              2316534080085092678   \n",
       "175   31.0  1.589599e+09       0.0              2310043374034217332   \n",
       "176   29.0  1.589164e+09       0.0              2306393944617674712   \n",
       "177   30.0  1.589085e+09       0.0              2305736012905571426   \n",
       "178   33.0  1.588880e+09       0.0              2304011958825698076   \n",
       "\n",
       "                   date  \n",
       "0   2022-04-27 14:35:09  \n",
       "1   2022-04-27 07:40:05  \n",
       "2   2022-04-23 15:53:19  \n",
       "3   2022-04-26 14:31:18  \n",
       "4   2022-04-17 12:40:53  \n",
       "..                  ...  \n",
       "174 2020-05-25 02:06:43  \n",
       "175 2020-05-16 03:10:51  \n",
       "176 2020-05-11 02:20:10  \n",
       "177 2020-05-10 04:32:53  \n",
       "178 2020-05-07 19:27:30  \n",
       "\n",
       "[179 rows x 5 columns]"
      ]
     },
     "execution_count": 25,
     "metadata": {},
     "output_type": "execute_result"
    }
   ],
   "source": [
    "from datetime import datetime\n",
    "_qc['date']=_qc[\"time\"].apply(datetime.fromtimestamp)\n",
    "_qc"
   ]
  },
  {
   "cell_type": "markdown",
   "metadata": {},
   "source": [
    "Superb! Now the data looks good. Now we will start visualizing the data."
   ]
  },
  {
   "cell_type": "markdown",
   "metadata": {},
   "source": [
    "Our latest data is about post on 27 March 2022, and the oldest one of 7 May 2020. Enough data I think."
   ]
  },
  {
   "cell_type": "code",
   "execution_count": 55,
   "metadata": {},
   "outputs": [
    {
     "name": "stdout",
     "output_type": "stream",
     "text": [
      "The average number of likes is: 58 for 11 posts. The total likes are 639.\n"
     ]
    },
    {
     "data": {
      "image/png": "[encoded data removed]",
      "text/plain": [
       "<Figure size 432x288 with 1 Axes>"
      ]
     },
     "metadata": {
      "needs_background": "light"
     },
     "output_type": "display_data"
    }
   ],
   "source": [
    "od = _qc[_qc[\"time\"]>1648386886]\n",
    "pyplot.title(\"Likes between 28 March 2022 and 27 April 2022\")\n",
    "pyplot.bar(range(len(od)),od['likes'].iloc[::-1])\n",
    "pyplot.xticks(range(len(od)),od['date'].iloc[::-1], rotation=90)\n",
    "pyplot.xlabel(\"Dates\")\n",
    "pyplot.ylabel(\"Number of likes.\")\n",
    "print(\"The average number of likes is: %d for %d posts. The total likes are %d.\"%(od['likes'].mean(),len(od),od['likes'].sum()))\n",
    "pyplot.show()"
   ]
  },
  {
   "cell_type": "markdown",
   "metadata": {},
   "source": [
    "Let us see the stats for the same period an year before."
   ]
  },
  {
   "cell_type": "code",
   "execution_count": 54,
   "metadata": {},
   "outputs": [
    {
     "name": "stdout",
     "output_type": "stream",
     "text": [
      "The average number of likes is: 50 for 11 posts. The total likes are 556.\n"
     ]
    },
    {
     "data": {
      "image/png": "[encoded data removed]",
      "text/plain": [
       "<Figure size 432x288 with 1 Axes>"
      ]
     },
     "metadata": {
      "needs_background": "light"
     },
     "output_type": "display_data"
    }
   ],
   "source": [
    "od = _qc[(_qc[\"time\"]>=1616491517) & (_qc[\"time\"]<1619580906)]\n",
    "pyplot.title(\"Likes between 23rd March 2021 and 25 April 2021\")\n",
    "pyplot.bar(range(len(od)),od['likes'].iloc[::-1])\n",
    "pyplot.xticks(range(len(od)),od['date'].iloc[::-1], rotation=90)\n",
    "pyplot.xlabel(\"Dates\")\n",
    "pyplot.ylabel(\"Number of likes.\")\n",
    "print(\"The average number of likes is: %d for %d posts. The total likes are %d.\"%(od['likes'].mean(),len(od),od['likes'].sum()))\n",
    "pyplot.show()"
   ]
  },
  {
   "cell_type": "markdown",
   "metadata": {},
   "source": [
    "Now let us study the difference, and gain conclusions."
   ]
  },
  {
   "cell_type": "code",
   "execution_count": 66,
   "metadata": {},
   "outputs": [
    {
     "name": "stdout",
     "output_type": "stream",
     "text": [
      "The average likes of 2022 is 58 while that of 2021 is 50. *Growth of 16.00 percent*\n",
      "The number of likes of 2022 is 639 while that of 2021 is 556. *Growth of 14.93 percent*\n"
     ]
    }
   ],
   "source": [
    "_2022 = [58,11,639]\n",
    "_2021 = [50,11,556]\n",
    "print(\"The average likes of 2022 is %d while that of 2021 is %d. *Growth of %.2f percent*\"%(_2022[0],_2021[0],(((_2022[0])-(_2021[0]))/_2021[0])*100))\n",
    "print(\"The number of likes of 2022 is %d while that of 2021 is %d. *Growth of %.2f percent*\"%(_2022[2],_2021[2],(((_2022[2])-(_2021[2]))/_2021[2])*100))"
   ]
  }
 ],
 "metadata": {
  "interpreter": {
   "hash": "110cc1dee26208153f2972f08a2ad52b6a56238dc66d48e87fb757ef2996db56"
  },
  "kernelspec": {
   "display_name": "Python 3.8.13 64-bit ('3.8.13')",
   "language": "python",
   "name": "python3"
  },
  "language_info": {
   "codemirror_mode": {
    "name": "ipython",
    "version": 3
   },
   "file_extension": ".py",
   "mimetype": "text/x-python",
   "name": "python",
   "nbconvert_exporter": "python",
   "pygments_lexer": "ipython3",
   "version": "3.8.13"
  },
  "orig_nbformat": 4
 },
 "nbformat": 4,
 "nbformat_minor": 2
}
